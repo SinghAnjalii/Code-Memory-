{
  "nbformat": 4,
  "nbformat_minor": 0,
  "metadata": {
    "colab": {
      "provenance": [],
      "authorship_tag": "ABX9TyM+XHG/SQVKbfskTNDcnbew",
      "include_colab_link": true
    },
    "kernelspec": {
      "name": "python3",
      "display_name": "Python 3"
    },
    "language_info": {
      "name": "python"
    }
  },
  "cells": [
    {
      "cell_type": "markdown",
      "metadata": {
        "id": "view-in-github",
        "colab_type": "text"
      },
      "source": [
        "<a href=\"https://colab.research.google.com/github/SinghAnjalii/Code-Memory-/blob/main/Google_Colab_Python(IIIT_Kota).ipynb\" target=\"_parent\"><img src=\"https://colab.research.google.com/assets/colab-badge.svg\" alt=\"Open In Colab\"/></a>"
      ]
    },
    {
      "cell_type": "markdown",
      "source": [
        "<Font Color = Yellow> **\"Welcome to Python Coding\"**"
      ],
      "metadata": {
        "id": "e1Z9l3awLjgr"
      }
    },
    {
      "cell_type": "code",
      "execution_count": null,
      "metadata": {
        "colab": {
          "base_uri": "https://localhost:8080/"
        },
        "id": "P9LiMze2J95z",
        "outputId": "0445237d-fd9e-45ef-de4a-a3774ed5bf61"
      },
      "outputs": [
        {
          "output_type": "stream",
          "name": "stdout",
          "text": [
            "Hello World\n"
          ]
        }
      ],
      "source": [
        "print(\"Hello World\")"
      ]
    },
    {
      "cell_type": "code",
      "source": [
        "x=3\n",
        "y=4\n",
        "z=5\n",
        "print(x,y,z)"
      ],
      "metadata": {
        "colab": {
          "base_uri": "https://localhost:8080/"
        },
        "id": "ipKMBOecWsCw",
        "outputId": "412b5cc6-dcd4-4d33-c2c8-7dbc8ba606f1"
      },
      "execution_count": null,
      "outputs": [
        {
          "output_type": "stream",
          "name": "stdout",
          "text": [
            "3 4 5\n"
          ]
        }
      ]
    },
    {
      "cell_type": "code",
      "source": [
        "x=5\n",
        "y=6\n",
        "print (x==y)"
      ],
      "metadata": {
        "colab": {
          "base_uri": "https://localhost:8080/"
        },
        "id": "eJ4zp3L9ZMTi",
        "outputId": "9121fd0d-788b-498f-c2ab-cc5296ffe948"
      },
      "execution_count": null,
      "outputs": [
        {
          "output_type": "stream",
          "name": "stdout",
          "text": [
            "False\n"
          ]
        }
      ]
    },
    {
      "cell_type": "code",
      "source": [
        "a = print(\"int(Enter the first number)\")\n",
        "b = print(\"int(Enter the second number)\")\n",
        "c = a+b\n",
        "print(\"sum is {c})\")\n",
        "if a>b:\n",
        "  print(\"Max is {},format(a)\")\n",
        "  print(\"a is the winner\")\n",
        "else:\n",
        "  print(\"max is {}, format(b)\")\n",
        "  print(\"b is the winner\")\n",
        "\n",
        "\n"
      ],
      "metadata": {
        "colab": {
          "base_uri": "https://localhost:8080/",
          "height": 279
        },
        "id": "mPj4llAuLEwy",
        "outputId": "9e332a4c-9b08-4e2a-88b9-89a4343e3702"
      },
      "execution_count": null,
      "outputs": [
        {
          "output_type": "stream",
          "name": "stdout",
          "text": [
            "int(Enter the first number)\n",
            "int(Enter the second number)\n"
          ]
        },
        {
          "output_type": "error",
          "ename": "TypeError",
          "evalue": "ignored",
          "traceback": [
            "\u001b[0;31m---------------------------------------------------------------------------\u001b[0m",
            "\u001b[0;31mTypeError\u001b[0m                                 Traceback (most recent call last)",
            "\u001b[0;32m<ipython-input-6-a5d5dfe79ff8>\u001b[0m in \u001b[0;36m<cell line: 3>\u001b[0;34m()\u001b[0m\n\u001b[1;32m      1\u001b[0m \u001b[0ma\u001b[0m \u001b[0;34m=\u001b[0m \u001b[0mprint\u001b[0m\u001b[0;34m(\u001b[0m\u001b[0;34m\"int(Enter the first number)\"\u001b[0m\u001b[0;34m)\u001b[0m\u001b[0;34m\u001b[0m\u001b[0;34m\u001b[0m\u001b[0m\n\u001b[1;32m      2\u001b[0m \u001b[0mb\u001b[0m \u001b[0;34m=\u001b[0m \u001b[0mprint\u001b[0m\u001b[0;34m(\u001b[0m\u001b[0;34m\"int(Enter the second number)\"\u001b[0m\u001b[0;34m)\u001b[0m\u001b[0;34m\u001b[0m\u001b[0;34m\u001b[0m\u001b[0m\n\u001b[0;32m----> 3\u001b[0;31m \u001b[0mc\u001b[0m \u001b[0;34m=\u001b[0m \u001b[0ma\u001b[0m\u001b[0;34m+\u001b[0m\u001b[0mb\u001b[0m\u001b[0;34m\u001b[0m\u001b[0;34m\u001b[0m\u001b[0m\n\u001b[0m\u001b[1;32m      4\u001b[0m \u001b[0mprint\u001b[0m\u001b[0;34m(\u001b[0m\u001b[0;34m\"sum is {c})\"\u001b[0m\u001b[0;34m)\u001b[0m\u001b[0;34m\u001b[0m\u001b[0;34m\u001b[0m\u001b[0m\n\u001b[1;32m      5\u001b[0m \u001b[0;32mif\u001b[0m \u001b[0ma\u001b[0m\u001b[0;34m>\u001b[0m\u001b[0mb\u001b[0m\u001b[0;34m:\u001b[0m\u001b[0;34m\u001b[0m\u001b[0;34m\u001b[0m\u001b[0m\n",
            "\u001b[0;31mTypeError\u001b[0m: unsupported operand type(s) for +: 'NoneType' and 'NoneType'"
          ]
        }
      ]
    },
    {
      "cell_type": "markdown",
      "source": [
        "<FONT COLOR = \"Yellow\" > PYTHON CALCULATOR CODE:\n"
      ],
      "metadata": {
        "id": "Qo2pDudsgOb3"
      }
    },
    {
      "cell_type": "code",
      "source": [
        "first = input(\"Enter first number:\")\n",
        "operator = input(\"enter operator(+, -, *, /):\")\n",
        "second = input(\"Enter second number:\")\n",
        "\n",
        "first = int(first)\n",
        "second = int(second)\n",
        "\n",
        "if operator == \"+\":\n",
        "  print(first + second)\n",
        "\n",
        "elif operator == \"-\":\n",
        "  print(first - second)\n",
        "\n",
        "elif operator == \"*\":\n",
        "  print(first*second)\n",
        "\n",
        "elif operator == \"/\":\n",
        "  print(first/second)\n",
        "\n",
        "else:\n",
        "  print(\"invalid operation\")\n",
        "\n",
        "\n"
      ],
      "metadata": {
        "colab": {
          "base_uri": "https://localhost:8080/"
        },
        "id": "5JrrGg2egsxN",
        "outputId": "a4019c7e-d4d2-4d22-aae3-84e5fbe8109f"
      },
      "execution_count": null,
      "outputs": [
        {
          "output_type": "stream",
          "name": "stdout",
          "text": [
            "Enter first number:2\n",
            "enter operator(+, -, *, /):/\n",
            "Enter second number:2\n",
            "1.0\n"
          ]
        }
      ]
    },
    {
      "cell_type": "code",
      "source": [
        "x = 9\n",
        "y =\"2\"\n",
        "print(x + int(y))"
      ],
      "metadata": {
        "colab": {
          "base_uri": "https://localhost:8080/"
        },
        "id": "0IidXKyGjhDQ",
        "outputId": "03ab4ad2-4e71-4d62-93a1-56b39b1978e5"
      },
      "execution_count": null,
      "outputs": [
        {
          "output_type": "stream",
          "name": "stdout",
          "text": [
            "11\n"
          ]
        }
      ]
    },
    {
      "cell_type": "code",
      "source": [
        "for i in range(10):\n",
        "  print(i+1)"
      ],
      "metadata": {
        "colab": {
          "base_uri": "https://localhost:8080/"
        },
        "id": "iFM5loQE5iJ7",
        "outputId": "d37b2984-36b0-4443-c631-5714b88dcc00"
      },
      "execution_count": null,
      "outputs": [
        {
          "output_type": "stream",
          "name": "stdout",
          "text": [
            "1\n",
            "2\n",
            "3\n",
            "4\n",
            "5\n",
            "6\n",
            "7\n",
            "8\n",
            "9\n",
            "10\n"
          ]
        }
      ]
    },
    {
      "cell_type": "code",
      "source": [
        "for j in range(2,20,2):\n",
        "  print(j)"
      ],
      "metadata": {
        "colab": {
          "base_uri": "https://localhost:8080/"
        },
        "id": "oQiBuZus7wxl",
        "outputId": "d9f05dac-214f-4daa-8ca0-0c3193707d0e"
      },
      "execution_count": null,
      "outputs": [
        {
          "output_type": "stream",
          "name": "stdout",
          "text": [
            "2\n",
            "4\n",
            "6\n",
            "8\n",
            "10\n",
            "12\n",
            "14\n",
            "16\n",
            "18\n"
          ]
        }
      ]
    },
    {
      "cell_type": "markdown",
      "source": [
        "<font color = \"sky blue\"> Write a program to print all configurations of 3 exams for 10 students"
      ],
      "metadata": {
        "id": "M9lZKCcY8VEr"
      }
    },
    {
      "cell_type": "code",
      "source": [
        "for students in range(1,11):\n",
        "  for exams in range(1,4):\n",
        "  print(students,exam)"
      ],
      "metadata": {
        "colab": {
          "base_uri": "https://localhost:8080/"
        },
        "id": "dJa6FsB18UGA",
        "outputId": "9e56900a-412b-41ac-a213-6f5b861698c5"
      },
      "execution_count": null,
      "outputs": [
        {
          "output_type": "error",
          "ename": "NameError",
          "evalue": "ignored",
          "traceback": [
            "\u001b[0;31m---------------------------------------------------------------------------\u001b[0m",
            "\u001b[0;31mNameError\u001b[0m                                 Traceback (most recent call last)",
            "\u001b[0;32m<ipython-input-12-3a2bcbe34846>\u001b[0m in \u001b[0;36m<cell line: 1>\u001b[0;34m()\u001b[0m\n\u001b[1;32m      1\u001b[0m \u001b[0;32mfor\u001b[0m \u001b[0mstudents\u001b[0m \u001b[0;32min\u001b[0m \u001b[0mrange\u001b[0m\u001b[0;34m(\u001b[0m\u001b[0;36m1\u001b[0m\u001b[0;34m,\u001b[0m\u001b[0;36m11\u001b[0m\u001b[0;34m)\u001b[0m\u001b[0;34m:\u001b[0m\u001b[0;34m\u001b[0m\u001b[0;34m\u001b[0m\u001b[0m\n\u001b[1;32m      2\u001b[0m   \u001b[0;32mfor\u001b[0m \u001b[0mexams\u001b[0m \u001b[0;32min\u001b[0m \u001b[0mrange\u001b[0m\u001b[0;34m(\u001b[0m\u001b[0;36m1\u001b[0m\u001b[0;34m,\u001b[0m\u001b[0;36m4\u001b[0m\u001b[0;34m)\u001b[0m\u001b[0;34m:\u001b[0m\u001b[0;34m\u001b[0m\u001b[0;34m\u001b[0m\u001b[0m\n\u001b[0;32m----> 3\u001b[0;31m     \u001b[0mprint\u001b[0m\u001b[0;34m(\u001b[0m\u001b[0mstudents\u001b[0m\u001b[0;34m,\u001b[0m\u001b[0mexam\u001b[0m\u001b[0;34m)\u001b[0m\u001b[0;34m\u001b[0m\u001b[0;34m\u001b[0m\u001b[0m\n\u001b[0m",
            "\u001b[0;31mNameError\u001b[0m: name 'exam' is not defined"
          ]
        }
      ]
    },
    {
      "cell_type": "code",
      "source": [
        "#program to print the first 10 integers using for loop\n",
        "sum = 0\n",
        "for i in range(1,11):\n",
        "  sum=sum+i\n",
        "print(sum)"
      ],
      "metadata": {
        "colab": {
          "base_uri": "https://localhost:8080/"
        },
        "id": "R5f3KEVQqOqo",
        "outputId": "2575434a-1e0c-4ce3-80d9-d354282dcad7"
      },
      "execution_count": null,
      "outputs": [
        {
          "output_type": "stream",
          "name": "stdout",
          "text": [
            "55\n"
          ]
        }
      ]
    },
    {
      "cell_type": "code",
      "source": [
        "#while loop\n",
        "\n",
        "i=0\n",
        "while i<100:\n",
        "  print(i+10)\n",
        "  i=i+10\n",
        "\n",
        "#Don't forget to update the increment in the while loop otherwise it'll run to infinity"
      ],
      "metadata": {
        "colab": {
          "base_uri": "https://localhost:8080/"
        },
        "id": "8SP0tsvgrj8g",
        "outputId": "982a90ad-7b7b-404a-bb17-325fa96044d9"
      },
      "execution_count": null,
      "outputs": [
        {
          "output_type": "stream",
          "name": "stdout",
          "text": [
            "10\n",
            "20\n",
            "30\n",
            "40\n",
            "50\n",
            "60\n",
            "70\n",
            "80\n",
            "90\n",
            "100\n"
          ]
        }
      ]
    },
    {
      "cell_type": "code",
      "source": [
        "i=int(input(\"Enter an integer greater than 2000\"))\n",
        "while i<2000:\n",
        "  print(\"Wrong entry! Try again\")\n",
        "  i=int(input(\"Enter an integer greater than 2000\"))\n",
        "  print(\"Finally you entered a correct value\")"
      ],
      "metadata": {
        "colab": {
          "base_uri": "https://localhost:8080/"
        },
        "id": "SEha9p_9tTOU",
        "outputId": "ba4431a3-abe4-4c54-a116-7965bc196349"
      },
      "execution_count": null,
      "outputs": [
        {
          "output_type": "stream",
          "name": "stdout",
          "text": [
            "Enter an integer greater than 20001756\n",
            "Wrong entry! Try again\n",
            "Enter an integer greater than 20003766\n",
            "Finally you entered a correct value\n"
          ]
        }
      ]
    },
    {
      "cell_type": "code",
      "source": [
        "sum=0\n",
        "i=1\n",
        "while i<11:\n",
        "  sum=sum+i\n",
        "  i=i+1\n",
        "print(sum)"
      ],
      "metadata": {
        "colab": {
          "base_uri": "https://localhost:8080/"
        },
        "id": "4st_5Mm-umHO",
        "outputId": "7f68d414-b11f-4ae9-a709-62b2e4c42d6e"
      },
      "execution_count": null,
      "outputs": [
        {
          "output_type": "stream",
          "name": "stdout",
          "text": [
            "55\n"
          ]
        }
      ]
    },
    {
      "cell_type": "code",
      "source": [
        "#The keyword \"break\" is utilized to breal a for or while loop\n",
        "for i in range(4):\n",
        "  if i>4:\n",
        "    break\n",
        "  else:\n",
        "    print(\"Remember i is less than 4\")\n"
      ],
      "metadata": {
        "colab": {
          "base_uri": "https://localhost:8080/"
        },
        "id": "u3yO2OlHvPfk",
        "outputId": "8205dad9-4260-426e-942b-0d23d24cd941"
      },
      "execution_count": null,
      "outputs": [
        {
          "output_type": "stream",
          "name": "stdout",
          "text": [
            "Remember i is less than 4\n",
            "Remember i is less than 4\n",
            "Remember i is less than 4\n",
            "Remember i is less than 4\n"
          ]
        }
      ]
    },
    {
      "cell_type": "code",
      "source": [
        "#List items are indexed.The first item has index [0], second item has index [1]\n",
        "#To determine how many items a list has, us the len() function\n",
        "#use the append() to add any item at the end of the list.\n",
        "#The remove() method removes the specified items, the pop() method removes the specified index, del() keyword also removes the specified index.\n",
        "#List objects have a sort() method that will sort the list alphanumerically, ascending by default. To sort descending use the argument reverse=true. The reverse() method reverses the order of sorting\n",
        "\n",
        "#Easiest way to join to list is by using + operator\n",
        "\n"
      ],
      "metadata": {
        "id": "NFQ2NCrCd3fl"
      },
      "execution_count": null,
      "outputs": []
    },
    {
      "cell_type": "code",
      "source": [
        "#List[]\n",
        "#Tuple()\n",
        "#Set{}"
      ],
      "metadata": {
        "id": "qJ5-jsZAd2m2"
      },
      "execution_count": null,
      "outputs": []
    },
    {
      "cell_type": "code",
      "source": [
        "#Tuple items are immutable, ordered, indexed and allow duplicate values\n",
        "\n",
        "#Set item unordered, not indexed, unchangeable but you can add remove or add value and do not allow duplicate values. used where you don't want repitition.\n",
        "#len()\n",
        "#si.add()\n",
        "#s1.update\n",
        "#s1.cleaes\n",
        "#Easiest way to join two sets is by using + operator or union()\n",
        "#The intersection() method returns only items that exists in both sets or in all the sets if the comparison is done with more than two sets.\n",
        "# isdisjoint() sets return True if none of the items are present in both the sets, otherwise it returns False.\n",
        "# The issubset() method return True if all items in the sets exists in specified set, otherwise it returns False\n",
        "# The issuperset() method returns True if all items in the specified set exists in the original set, otherwise it returns False.\n",
        "\n"
      ],
      "metadata": {
        "id": "Yk8yS26cghvR"
      },
      "execution_count": null,
      "outputs": []
    },
    {
      "cell_type": "code",
      "source": [
        "s1={1,2}\n",
        "s2={3,4}\n",
        "s1.isdisjoint(s2)"
      ],
      "metadata": {
        "colab": {
          "base_uri": "https://localhost:8080/"
        },
        "id": "AFzpyioLgjEH",
        "outputId": "d74e2146-c13b-4b06-fa23-780b7c206fae"
      },
      "execution_count": null,
      "outputs": [
        {
          "output_type": "execute_result",
          "data": {
            "text/plain": [
              "True"
            ]
          },
          "metadata": {},
          "execution_count": 1
        }
      ]
    },
    {
      "cell_type": "code",
      "source": [
        "s2.isdisjoint(s1)"
      ],
      "metadata": {
        "colab": {
          "base_uri": "https://localhost:8080/"
        },
        "id": "oJKzlRh8gyyy",
        "outputId": "300a3b5c-5b1f-446f-929a-2710ecf0fbc3"
      },
      "execution_count": null,
      "outputs": [
        {
          "output_type": "execute_result",
          "data": {
            "text/plain": [
              "True"
            ]
          },
          "metadata": {},
          "execution_count": 2
        }
      ]
    },
    {
      "cell_type": "code",
      "source": [
        "s1.issubset(s2)"
      ],
      "metadata": {
        "colab": {
          "base_uri": "https://localhost:8080/"
        },
        "id": "M158xlvwg6v4",
        "outputId": "36857bde-81ff-4c3c-f26f-1e03f26589b8"
      },
      "execution_count": null,
      "outputs": [
        {
          "output_type": "execute_result",
          "data": {
            "text/plain": [
              "False"
            ]
          },
          "metadata": {},
          "execution_count": 3
        }
      ]
    },
    {
      "cell_type": "code",
      "source": [
        "s1={1,2}\n",
        "s2={1,2,3}\n",
        "s1.issubset(s2)"
      ],
      "metadata": {
        "colab": {
          "base_uri": "https://localhost:8080/"
        },
        "id": "kwUhcjgvhC3H",
        "outputId": "d21421ec-a4e3-4a2b-c47c-e05bf77d6e8e"
      },
      "execution_count": null,
      "outputs": [
        {
          "output_type": "execute_result",
          "data": {
            "text/plain": [
              "True"
            ]
          },
          "metadata": {},
          "execution_count": 4
        }
      ]
    },
    {
      "cell_type": "code",
      "source": [
        "s2.issubset(s1)"
      ],
      "metadata": {
        "colab": {
          "base_uri": "https://localhost:8080/"
        },
        "id": "4XPGL0V9iO4d",
        "outputId": "e586ecae-8ec1-4cc7-86d9-ac7f06c6e916"
      },
      "execution_count": null,
      "outputs": [
        {
          "output_type": "execute_result",
          "data": {
            "text/plain": [
              "False"
            ]
          },
          "metadata": {},
          "execution_count": 5
        }
      ]
    },
    {
      "cell_type": "code",
      "source": [
        "s1.issuperset(s2)"
      ],
      "metadata": {
        "colab": {
          "base_uri": "https://localhost:8080/"
        },
        "id": "0x-ig0OhiTl8",
        "outputId": "dd193493-0671-4193-81b9-f70c4a3bc511"
      },
      "execution_count": null,
      "outputs": [
        {
          "output_type": "execute_result",
          "data": {
            "text/plain": [
              "False"
            ]
          },
          "metadata": {},
          "execution_count": 6
        }
      ]
    },
    {
      "cell_type": "code",
      "source": [
        "s2.issuperset(s1)"
      ],
      "metadata": {
        "colab": {
          "base_uri": "https://localhost:8080/"
        },
        "id": "tb4tc0f8iYLJ",
        "outputId": "74a54226-08e4-48ad-f07c-c11578c83c14"
      },
      "execution_count": null,
      "outputs": [
        {
          "output_type": "execute_result",
          "data": {
            "text/plain": [
              "True"
            ]
          },
          "metadata": {},
          "execution_count": 7
        }
      ]
    },
    {
      "cell_type": "code",
      "source": [
        "#symmetric_difference() method returns a set that contains all items from both set but not the items that are present in both sets.\n",
        "s1={1,2,3}\n",
        "s2={1,2,5}\n",
        "s3=s1.symmetric_difference(s2)\n",
        "print(s3)"
      ],
      "metadata": {
        "colab": {
          "base_uri": "https://localhost:8080/"
        },
        "id": "OoYCnChuim8r",
        "outputId": "d89fd861-b168-403a-d0c9-70a475c26c4b"
      },
      "execution_count": null,
      "outputs": [
        {
          "output_type": "stream",
          "name": "stdout",
          "text": [
            "{3, 5}\n"
          ]
        }
      ]
    },
    {
      "cell_type": "code",
      "source": [
        "dict1= {'Mohan':95, 'Ram':89, 'Suhel':92, 'Sam':85}\n",
        "for key in dict1:\n",
        "  print(key,':',dict1[key])"
      ],
      "metadata": {
        "colab": {
          "base_uri": "https://localhost:8080/"
        },
        "id": "6W_bC-PYjZyj",
        "outputId": "49d77da8-7673-46e6-b2b3-f493214561b2"
      },
      "execution_count": null,
      "outputs": [
        {
          "output_type": "stream",
          "name": "stdout",
          "text": [
            "Mohan : 95\n",
            "Ram : 89\n",
            "Suhel : 92\n",
            "Sam : 85\n"
          ]
        }
      ]
    },
    {
      "cell_type": "code",
      "source": [
        "print(dict1.get('Sam'))"
      ],
      "metadata": {
        "colab": {
          "base_uri": "https://localhost:8080/"
        },
        "id": "45DzdstqmksU",
        "outputId": "dffde67d-db85-406b-f7f8-27614be27dd5"
      },
      "execution_count": null,
      "outputs": [
        {
          "output_type": "stream",
          "name": "stdout",
          "text": [
            "85\n"
          ]
        }
      ]
    },
    {
      "cell_type": "code",
      "source": [
        "dict2={'John':89, 'Tina':86}\n",
        "dict1.update(dict2)\n",
        "print(dict1)"
      ],
      "metadata": {
        "colab": {
          "base_uri": "https://localhost:8080/"
        },
        "id": "rPREAYkMm7KK",
        "outputId": "4b1cae22-8810-45a6-ca81-b3f068b7d2db"
      },
      "execution_count": null,
      "outputs": [
        {
          "output_type": "stream",
          "name": "stdout",
          "text": [
            "{'Mohan': 95, 'Ram': 89, 'Suhel': 92, 'Sam': 85, 'John': 89, 'Tina': 86}\n"
          ]
        }
      ]
    },
    {
      "cell_type": "code",
      "source": [
        "ODD={1:'One', 2:'two', 3:'three', 4:'four', 5:'five' }\n",
        "print(ODD)"
      ],
      "metadata": {
        "colab": {
          "base_uri": "https://localhost:8080/"
        },
        "id": "tNY6ZC15nsxi",
        "outputId": "8ff3e9a0-ead8-4fa0-d6fc-fcd7e579e1b2"
      },
      "execution_count": null,
      "outputs": [
        {
          "output_type": "stream",
          "name": "stdout",
          "text": [
            "{1: 'One', 2: 'two', 3: 'three', 4: 'four', 5: 'five'}\n"
          ]
        }
      ]
    },
    {
      "cell_type": "code",
      "source": [
        "print(ODD.keys())\n"
      ],
      "metadata": {
        "colab": {
          "base_uri": "https://localhost:8080/"
        },
        "id": "5o2_sOvPot49",
        "outputId": "0767936c-3dcf-47af-98ce-ffad7f142525"
      },
      "execution_count": null,
      "outputs": [
        {
          "output_type": "stream",
          "name": "stdout",
          "text": [
            "dict_keys([1, 2, 3, 4, 5])\n"
          ]
        }
      ]
    },
    {
      "cell_type": "code",
      "source": [
        "print(ODD.values())"
      ],
      "metadata": {
        "colab": {
          "base_uri": "https://localhost:8080/"
        },
        "id": "OXWv8T1Fo3lW",
        "outputId": "a0f1e171-69cf-4e10-ccda-9486ecb7df8e"
      },
      "execution_count": null,
      "outputs": [
        {
          "output_type": "stream",
          "name": "stdout",
          "text": [
            "dict_values(['One', 'two', 'three', 'four', 'five'])\n"
          ]
        }
      ]
    },
    {
      "cell_type": "code",
      "source": [
        "print(ODD.get(5))"
      ],
      "metadata": {
        "colab": {
          "base_uri": "https://localhost:8080/"
        },
        "id": "ywU5xCako_LA",
        "outputId": "205e46a1-58ce-4323-ed43-3f1733d42daa"
      },
      "execution_count": null,
      "outputs": [
        {
          "output_type": "stream",
          "name": "stdout",
          "text": [
            "five\n"
          ]
        }
      ]
    },
    {
      "cell_type": "code",
      "source": [
        "#Program to create a dictionary which stores the name of employer and their salary"
      ],
      "metadata": {
        "id": "Tks5qNQwpPLK"
      },
      "execution_count": null,
      "outputs": []
    },
    {
      "cell_type": "code",
      "source": [
        "num=int(input(\"Enter the number of employees whose data to be stored:\"))\n",
        "count=1\n",
        "employee=dict()\n",
        "while count <= num:\n",
        "  name=input(\"Enter the name of the employee: \")\n",
        "  salary=int(input(\"Enter the salary: \"))\n",
        "  employee[name]=salary\n",
        "  count+=1\n",
        "print(\"n\\nEMPLOYEE_NAME\\t\\tSALARY\")\n",
        "\n",
        "for k in employee:\n",
        "  print(k,'\\t\\t', employee[k])"
      ],
      "metadata": {
        "colab": {
          "base_uri": "https://localhost:8080/"
        },
        "id": "1Xe4zmaMpbT_",
        "outputId": "418876b0-7962-4b34-b054-493acf3e59cb"
      },
      "execution_count": null,
      "outputs": [
        {
          "output_type": "stream",
          "name": "stdout",
          "text": [
            "Enter the number of employees whose data to be stored:5\n",
            "Enter the name of the employee: Tara\n",
            "Enter the salary: 86700\n",
            "Enter the name of the employee: Sam\n",
            "Enter the salary: 76460\n",
            "Enter the name of the employee: Danie\n",
            "Enter the salary: 75600\n",
            "Enter the name of the employee: Can\n",
            "Enter the salary: 8700\n",
            "Enter the name of the employee: Yan\n",
            "Enter the salary: 6500\n",
            "n\n",
            "EMPLOYEE_NAME\t\tSALARY\n",
            "Tara \t\t 86700\n",
            "Sam \t\t 76460\n",
            "Danie \t\t 75600\n",
            "Can \t\t 8700\n",
            "Yan \t\t 6500\n"
          ]
        }
      ]
    },
    {
      "cell_type": "code",
      "source": [
        "\n",
        "#Write a program to count the number of times a character appears in a string\n",
        "\n",
        "st=input(\"Enter a string: \")\n",
        "dic={} #an empty dict created\n",
        "for ch in st:           #ch is for character\n",
        "  if ch in dic:\n",
        "    dic[ch]+=1\n",
        "  else:\n",
        "    dic[ch]=1\n",
        "for key in dic:\n",
        "  print(key, ':', dic[key])\n"
      ],
      "metadata": {
        "colab": {
          "base_uri": "https://localhost:8080/"
        },
        "id": "vJtUv2KztDzO",
        "outputId": "2fc116ef-59ee-4982-e681-75e0a4abe6fe"
      },
      "execution_count": null,
      "outputs": [
        {
          "output_type": "stream",
          "name": "stdout",
          "text": [
            "Enter a string: You are powerful\n",
            "Y : 1\n",
            "o : 2\n",
            "u : 2\n",
            "  : 2\n",
            "a : 1\n",
            "r : 2\n",
            "e : 2\n",
            "p : 1\n",
            "w : 1\n",
            "f : 1\n",
            "l : 1\n"
          ]
        }
      ]
    },
    {
      "cell_type": "code",
      "source": [
        "def average(a,b):\n",
        "  return(a+b)/2\n",
        "print(average(10,5))\n",
        "print(average(28,67))\n"
      ],
      "metadata": {
        "colab": {
          "base_uri": "https://localhost:8080/"
        },
        "id": "8NUVUj9w3GhZ",
        "outputId": "72ab911a-7dc4-4b91-e953-8a00e0a710c3"
      },
      "execution_count": null,
      "outputs": [
        {
          "output_type": "stream",
          "name": "stdout",
          "text": [
            "7.5\n",
            "47.5\n"
          ]
        }
      ]
    },
    {
      "cell_type": "code",
      "source": [
        "a=6\n",
        "id(a)\n",
        "b=9\n",
        "id(b)\n"
      ],
      "metadata": {
        "colab": {
          "base_uri": "https://localhost:8080/"
        },
        "id": "PpnHOYXlSI3x",
        "outputId": "b85c02bb-2b28-4364-bfcc-495044577e89"
      },
      "execution_count": null,
      "outputs": [
        {
          "output_type": "execute_result",
          "data": {
            "text/plain": [
              "134994784911856"
            ]
          },
          "metadata": {},
          "execution_count": 4
        }
      ]
    },
    {
      "cell_type": "code",
      "source": [
        "ord('A')"
      ],
      "metadata": {
        "colab": {
          "base_uri": "https://localhost:8080/"
        },
        "id": "vI0_ASJKSqpC",
        "outputId": "e89094ae-2ebf-46cf-c06a-c569b35b820b"
      },
      "execution_count": null,
      "outputs": [
        {
          "output_type": "execute_result",
          "data": {
            "text/plain": [
              "65"
            ]
          },
          "metadata": {},
          "execution_count": 6
        }
      ]
    },
    {
      "cell_type": "code",
      "source": [
        "def average(*n):\n",
        "  s=0\n",
        "  for i in n:\n",
        "    s=s+i\n",
        "  return(s/len(n))\n",
        "average(5,3,1)"
      ],
      "metadata": {
        "colab": {
          "base_uri": "https://localhost:8080/"
        },
        "id": "7jeRElPdV2QB",
        "outputId": "caac3d5a-a93e-4650-8b17-9164c123289d"
      },
      "execution_count": null,
      "outputs": [
        {
          "output_type": "execute_result",
          "data": {
            "text/plain": [
              "3.0"
            ]
          },
          "metadata": {},
          "execution_count": 7
        }
      ]
    },
    {
      "cell_type": "code",
      "source": [
        "def l_function(food):\n",
        "  for x in food:\n",
        "    print(x)\n",
        "fruits=('straw', 'pear', 'grapes')\n",
        "l_function(fruits)"
      ],
      "metadata": {
        "colab": {
          "base_uri": "https://localhost:8080/"
        },
        "id": "4LKdhpgIWOgN",
        "outputId": "ffaf5246-c911-4d27-bc52-9f3af0b5f19d"
      },
      "execution_count": null,
      "outputs": [
        {
          "output_type": "stream",
          "name": "stdout",
          "text": [
            "straw\n",
            "pear\n",
            "grapes\n"
          ]
        }
      ]
    },
    {
      "cell_type": "code",
      "source": [
        "def KW_f(**kwargs):\n",
        "  for key, value in kwargs.items():\n",
        "    print(\"%s==%s\"%(key,value))\n",
        "KW_f(first='1st', second='2nd')"
      ],
      "metadata": {
        "colab": {
          "base_uri": "https://localhost:8080/"
        },
        "id": "A3S1S6pZWwZP",
        "outputId": "01ad73d4-755c-49f0-b074-75b83856e7b5"
      },
      "execution_count": null,
      "outputs": [
        {
          "output_type": "stream",
          "name": "stdout",
          "text": [
            "first==1st\n",
            "second==2nd\n"
          ]
        }
      ]
    },
    {
      "cell_type": "code",
      "source": [],
      "metadata": {
        "id": "BIiHcZusHiDI"
      },
      "execution_count": null,
      "outputs": []
    },
    {
      "cell_type": "markdown",
      "source": [
        "**FILE READ FUNCTIONS**"
      ],
      "metadata": {
        "id": "4w2aaXYmHlmg"
      }
    },
    {
      "cell_type": "code",
      "source": [
        "f=open('file_read_functions','x')   #To create a file"
      ],
      "metadata": {
        "id": "fg2pCuO3Hrj7"
      },
      "execution_count": null,
      "outputs": []
    },
    {
      "cell_type": "code",
      "source": [
        "text=f.read('file_read_functions')\n",
        "print(text)"
      ],
      "metadata": {
        "colab": {
          "base_uri": "https://localhost:8080/",
          "height": 193
        },
        "id": "-5_sUed8I8WD",
        "outputId": "59e4d763-9c11-4535-9d05-713c47244521"
      },
      "execution_count": null,
      "outputs": [
        {
          "output_type": "error",
          "ename": "TypeError",
          "evalue": "ignored",
          "traceback": [
            "\u001b[0;31m---------------------------------------------------------------------------\u001b[0m",
            "\u001b[0;31mTypeError\u001b[0m                                 Traceback (most recent call last)",
            "\u001b[0;32m<ipython-input-4-d7611cee4659>\u001b[0m in \u001b[0;36m<cell line: 1>\u001b[0;34m()\u001b[0m\n\u001b[0;32m----> 1\u001b[0;31m \u001b[0mtext\u001b[0m\u001b[0;34m=\u001b[0m\u001b[0mf\u001b[0m\u001b[0;34m.\u001b[0m\u001b[0mread\u001b[0m\u001b[0;34m(\u001b[0m\u001b[0;34m'file_read_functions'\u001b[0m\u001b[0;34m)\u001b[0m\u001b[0;34m\u001b[0m\u001b[0;34m\u001b[0m\u001b[0m\n\u001b[0m\u001b[1;32m      2\u001b[0m \u001b[0mprint\u001b[0m\u001b[0;34m(\u001b[0m\u001b[0mtext\u001b[0m\u001b[0;34m)\u001b[0m\u001b[0;34m\u001b[0m\u001b[0;34m\u001b[0m\u001b[0m\n",
            "\u001b[0;31mTypeError\u001b[0m: argument should be integer or None, not 'str'"
          ]
        }
      ]
    }
  ]
}